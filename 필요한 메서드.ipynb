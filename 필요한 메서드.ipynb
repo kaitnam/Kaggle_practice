{
 "cells": [
  {
   "cell_type": "code",
   "execution_count": null,
   "id": "e35ef63a",
   "metadata": {},
   "outputs": [],
   "source": [
    "# lpay 데이터 셋의 'de_dt' 컬럼에 value별로 몇개가 있는지 갯수 count 하고싶을때\n",
    "\n",
    "lpay['de_dt'].value_counts()"
   ]
  },
  {
   "cell_type": "markdown",
   "id": "1a2a6b15",
   "metadata": {},
   "source": [
    "### z01,z02, z03.. 이렇게 순서대로 정렬하고 싶으면 sort_values()"
   ]
  },
  {
   "cell_type": "code",
   "execution_count": null,
   "id": "abcd2542",
   "metadata": {},
   "outputs": [],
   "source": [
    "# pdde 파일의 'rct_no' 컬럼에 '47192703' 문자가 들어있는 row 출력하기\n",
    "# 471920703 만 들어가면 다 출력 예) io471920703 가능\n",
    "# dtype이 문자열(object, string)일때만 가능\n",
    "\n",
    "pdde[pdde['rct_no'].str.contains('471920703')]"
   ]
  },
  {
   "cell_type": "markdown",
   "id": "987f3046",
   "metadata": {},
   "source": [
    "### object형이나 int형 날짜를 datetime형으로 바꾸기 / 새로운 컬럼을 만들어서 년/월 폼으로 바꿔 넣기"
   ]
  },
  {
   "cell_type": "code",
   "execution_count": null,
   "id": "e62411bf",
   "metadata": {},
   "outputs": [],
   "source": [
    "# results['payment_tm'] 컬럼을 하나 만들어서 년/월 폼으로 바꿔서 넣기\n",
    "\n",
    "results['de_dt'] = pd.to_datetime(results['de_dt'], format='%Y%m%d')\n",
    "results['payment_tm'] = results['de_dt'].dt.strftime(\"%Y-%m\")"
   ]
  },
  {
   "cell_type": "markdown",
   "id": "b4110973",
   "metadata": {},
   "source": [
    "### 한글 폰트 사용을 위한 세팅"
   ]
  },
  {
   "cell_type": "code",
   "execution_count": null,
   "id": "0a87227f",
   "metadata": {},
   "outputs": [],
   "source": [
    "font_path = \"C:/Users/katenam/AppData/Local/Microsoft/Windows/Fonts/malgun.ttf\"\n",
    "font = font_manager.FontProperties(fname=font_path).get_name()\n",
    "rc('font', family=font)"
   ]
  },
  {
   "cell_type": "code",
   "execution_count": null,
   "id": "03586451",
   "metadata": {},
   "outputs": [],
   "source": [
    "# 대용량 데이터 히트맵 다 나오게 출력\n",
    "# 한글 컬럼 출력\n",
    "\n",
    "from matplotlib import colors\n",
    "font_path = \"C:/Users/katenam/AppData/Local/Microsoft/Windows/Fonts/malgun.ttf\"\n",
    "font = font_manager.FontProperties(fname=font_path).get_name()\n",
    "rc('font', family=font)\n",
    "\n",
    "cmap = colors.ListedColormap([\"#682F2F\", \"#9E726F\", \"#D6B2B1\", \"#B9C0C9\", \"#9F8A78\", \"#F3AB60\"])\n",
    "\n",
    "corr = data.corr()\n",
    "plt.figure(figsize=(20,20))  \n",
    "sns.heatmap(corr,annot=True, cmap=cmap, center=0)"
   ]
  },
  {
   "cell_type": "markdown",
   "id": "745f1412",
   "metadata": {},
   "source": [
    "### 중독되는 값이 있는지 확인"
   ]
  },
  {
   "cell_type": "code",
   "execution_count": null,
   "id": "086a5fb3",
   "metadata": {},
   "outputs": [],
   "source": [
    "# https://dev.to/svinci/intersection-union-and-difference-of-sets-in-python-4gkn\n",
    "\n",
    "b3 = list(set(lpay_cust).intersection(pdde_cust))"
   ]
  },
  {
   "cell_type": "markdown",
   "id": "b2e9af73",
   "metadata": {},
   "source": [
    "### Python Visualizations"
   ]
  },
  {
   "cell_type": "code",
   "execution_count": null,
   "id": "a5aff71b",
   "metadata": {},
   "outputs": [],
   "source": [
    "# https://www.kaggle.com/code/desalegngeb/plotly-guide-customize-for-better-visualizations\n",
    "# https://www.kaggle.com/code/parulpandey/geek-girls-rising-myth-or-reality\n",
    "# https://www.kaggle.com/code/imdevskp/covid-19-analysis-visualization-comparisons"
   ]
  },
  {
   "cell_type": "markdown",
   "id": "212dcb80",
   "metadata": {},
   "source": [
    "### describe() 소수점 둘째자리까지 나오게 하기"
   ]
  },
  {
   "cell_type": "code",
   "execution_count": null,
   "id": "57d9a61d",
   "metadata": {},
   "outputs": [],
   "source": [
    "pd.set_option('display.float_format','{:,.2f}'.format)\n",
    "pdde.describe()"
   ]
  },
  {
   "cell_type": "markdown",
   "id": "eaf0a84b",
   "metadata": {},
   "source": [
    "### outlier 찾기"
   ]
  },
  {
   "cell_type": "code",
   "execution_count": null,
   "id": "296f2fe7",
   "metadata": {},
   "outputs": [],
   "source": [
    "import matplotlib.pyplot as plt\n",
    "import seaborn as sns\n",
    "\n",
    "plt.figure(figsize=(10,4))\n",
    "plt.xlim(-100, 150)\n",
    "sns.boxplot(x=pdde.buy_ct)"
   ]
  },
  {
   "cell_type": "markdown",
   "id": "887b1755",
   "metadata": {},
   "source": [
    "### 얼마나 걸렸는지 시간을 보고싶을때(simple data)"
   ]
  },
  {
   "cell_type": "code",
   "execution_count": null,
   "id": "0fd97d68",
   "metadata": {},
   "outputs": [],
   "source": [
    "%%time"
   ]
  },
  {
   "cell_type": "markdown",
   "id": "9ec97736",
   "metadata": {},
   "source": [
    "### Series에서 DataFrame으로 변환"
   ]
  },
  {
   "cell_type": "code",
   "execution_count": null,
   "id": "bfe3f441",
   "metadata": {},
   "outputs": [],
   "source": [
    "# Series name.to_frame(name='컬럼명')\n",
    "\n",
    "p.to_frame(name='lpay_num')"
   ]
  },
  {
   "cell_type": "markdown",
   "id": "9d4f0c08",
   "metadata": {},
   "source": [
    "### 데이터 프레임 index 이름 변환"
   ]
  },
  {
   "cell_type": "code",
   "execution_count": null,
   "id": "333605c9",
   "metadata": {},
   "outputs": [],
   "source": [
    "# DataFrame name.index.names = ['바꿀이름']\n",
    "\n",
    "u.index.names = ['cust']"
   ]
  },
  {
   "cell_type": "markdown",
   "id": "4a408f04",
   "metadata": {},
   "source": [
    "### csv로 데이터 저장 & 불러오기"
   ]
  },
  {
   "cell_type": "code",
   "execution_count": null,
   "id": "661ada89",
   "metadata": {},
   "outputs": [],
   "source": [
    "# 데이터 저장\n",
    "pdde_copu.to_csv(\"pdde_copu.csv\", index = False)\n",
    "\n",
    "# 데이터 로드\n",
    "data = pd.read_csv(\"pdde_copu.csv\")"
   ]
  },
  {
   "cell_type": "markdown",
   "id": "671a28c3",
   "metadata": {},
   "source": [
    "### DataFrame Merge"
   ]
  },
  {
   "cell_type": "code",
   "execution_count": null,
   "id": "6cea5722",
   "metadata": {},
   "outputs": [],
   "source": [
    "# 변수 = pd.merge(demo파일에 z를 'cust'를 기준으로 왼쪽으로 병합한다.)\n",
    "# 두 데이터 프레임에 'cust' 컬럼이 반드시 있어야 함\n",
    "\n",
    "result = pd.merge(demo, z, on=\"cust\", how=\"left\")"
   ]
  },
  {
   "cell_type": "markdown",
   "id": "748041cf",
   "metadata": {},
   "source": [
    "### 데이터 프레임 생략없이 출력 방법"
   ]
  },
  {
   "cell_type": "code",
   "execution_count": null,
   "id": "8fe29294",
   "metadata": {},
   "outputs": [],
   "source": [
    "# https://jimmy-ai.tistory.com/134\n",
    "# 숫자에 원하는 출력 숫자를 넣고 만약 None으로 넣으면 모든게 다 출력된다. pd.set_option('display.max_columns', None)\n",
    "\n",
    "pd.set_option('display.max_columns', 숫자)\n",
    "pd.set_option('display.max_rows', 숫자)"
   ]
  }
 ],
 "metadata": {
  "kernelspec": {
   "display_name": "Python 3 (ipykernel)",
   "language": "python",
   "name": "python3"
  },
  "language_info": {
   "codemirror_mode": {
    "name": "ipython",
    "version": 3
   },
   "file_extension": ".py",
   "mimetype": "text/x-python",
   "name": "python",
   "nbconvert_exporter": "python",
   "pygments_lexer": "ipython3",
   "version": "3.9.12"
  }
 },
 "nbformat": 4,
 "nbformat_minor": 5
}
