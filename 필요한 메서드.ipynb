{
 "cells": [
  {
   "cell_type": "code",
   "execution_count": null,
   "id": "e35ef63a",
   "metadata": {},
   "outputs": [],
   "source": [
    "# lpay 데이터 셋의 'de_dt' 컬럼에 value별로 몇개가 있는지 갯수 count 하고싶을때\n",
    "\n",
    "lpay['de_dt'].value_counts()"
   ]
  },
  {
   "cell_type": "markdown",
   "id": "1a2a6b15",
   "metadata": {},
   "source": [
    "### z01,z02, z03.. 이렇게 순서대로 정렬하고 싶으면 sort_values()"
   ]
  },
  {
   "cell_type": "code",
   "execution_count": null,
   "id": "abcd2542",
   "metadata": {},
   "outputs": [],
   "source": [
    "# pdde 파일의 'rct_no' 컬럼에 '47192703' 문자가 들어있는 row 출력하기\n",
    "# 471920703 만 들어가면 다 출력 예) io471920703 가능\n",
    "# dtype이 문자열(object, string)일때만 가능\n",
    "\n",
    "pdde[pdde['rct_no'].str.contains('471920703')]"
   ]
  },
  {
   "cell_type": "markdown",
   "id": "987f3046",
   "metadata": {},
   "source": [
    "### object형이나 int형 날짜를 datetime형으로 바꾸기 / 새로운 컬럼을 만들어서 년/월 폼으로 바꿔 넣기"
   ]
  },
  {
   "cell_type": "code",
   "execution_count": null,
   "id": "e62411bf",
   "metadata": {},
   "outputs": [],
   "source": [
    "# results['payment_tm'] 컬럼을 하나 만들어서 년/월 폼으로 바꿔서 넣기\n",
    "# format='%Y%m%d' 이걸 안적어주면 1970년대로 출력이 된다. 반드시 적어서 출력할것\n",
    "\n",
    "results['de_dt'] = pd.to_datetime(results['de_dt'], format='%Y%m%d')\n",
    "results['YearMonth'] = results['de_dt'].dt.strftime(\"%Y-%m\")\n",
    "\n",
    "# 다른 방법\n",
    "pdde['YearMonth'] = pdde['de_dt'].map(lambda date: 100*date.year + date.month)\n",
    "\n",
    "# 주별로 묶기\n",
    "\n",
    "A01['week']=A01['de_dt'].dt.strftime(\"%W\") # 00부터 시작해서 52까지 (2021년은 52까지)"
   ]
  },
  {
   "cell_type": "markdown",
   "id": "b4110973",
   "metadata": {},
   "source": [
    "### 한글 폰트 사용을 위한 세팅"
   ]
  },
  {
   "cell_type": "code",
   "execution_count": null,
   "id": "0a87227f",
   "metadata": {},
   "outputs": [],
   "source": [
    "font_path = \"C:/Users/katenam/AppData/Local/Microsoft/Windows/Fonts/malgun.ttf\"\n",
    "font = font_manager.FontProperties(fname=font_path).get_name()\n",
    "rc('font', family=font)"
   ]
  },
  {
   "cell_type": "code",
   "execution_count": null,
   "id": "03586451",
   "metadata": {},
   "outputs": [],
   "source": [
    "# 대용량 데이터 히트맵 다 나오게 출력\n",
    "# 한글 컬럼 출력\n",
    "\n",
    "from matplotlib import colors\n",
    "font_path = \"C:/Users/katenam/AppData/Local/Microsoft/Windows/Fonts/malgun.ttf\"\n",
    "font = font_manager.FontProperties(fname=font_path).get_name()\n",
    "rc('font', family=font)\n",
    "\n",
    "cmap = colors.ListedColormap([\"#682F2F\", \"#9E726F\", \"#D6B2B1\", \"#B9C0C9\", \"#9F8A78\", \"#F3AB60\"])\n",
    "\n",
    "corr = data.corr()\n",
    "plt.figure(figsize=(20,20))  \n",
    "sns.heatmap(corr,annot=True, cmap=cmap, center=0)"
   ]
  },
  {
   "cell_type": "markdown",
   "id": "745f1412",
   "metadata": {},
   "source": [
    "### 중독되는 값이 있는지 확인"
   ]
  },
  {
   "cell_type": "code",
   "execution_count": null,
   "id": "086a5fb3",
   "metadata": {},
   "outputs": [],
   "source": [
    "# https://dev.to/svinci/intersection-union-and-difference-of-sets-in-python-4gkn\n",
    "\n",
    "b3 = list(set(lpay_cust).intersection(pdde_cust))\n",
    "# b3를 출력하면 중복된 값이 출력됨\n",
    "\n",
    "# (a,b)는 a에는 있으나 b에는 없는 값 찾을때\n",
    "# (b,a)는 b에는 있으나 a에는 없는 값 찾을때\n",
    "a = lpay_pdde['cust'].unique()\n",
    "b = lpay_demo['cust'].unique()\n",
    "print(np.setdiff1d(a, b))\n",
    "print(len(np.setdiff1d(a, b)))\n",
    "\n",
    "C = list(set(x) - set(g))\n",
    "print(C)"
   ]
  },
  {
   "cell_type": "code",
   "execution_count": null,
   "id": "9b6d06f2",
   "metadata": {},
   "outputs": [],
   "source": []
  },
  {
   "cell_type": "markdown",
   "id": "b2e9af73",
   "metadata": {},
   "source": [
    "### Python Visualizations"
   ]
  },
  {
   "cell_type": "code",
   "execution_count": null,
   "id": "a5aff71b",
   "metadata": {},
   "outputs": [],
   "source": [
    "# https://www.kaggle.com/code/desalegngeb/plotly-guide-customize-for-better-visualizations\n",
    "# https://www.kaggle.com/code/parulpandey/geek-girls-rising-myth-or-reality\n",
    "# https://www.kaggle.com/code/imdevskp/covid-19-analysis-visualization-comparisons"
   ]
  },
  {
   "cell_type": "markdown",
   "id": "212dcb80",
   "metadata": {},
   "source": [
    "### describe() 소수점 둘째자리까지 나오게 하기"
   ]
  },
  {
   "cell_type": "code",
   "execution_count": null,
   "id": "57d9a61d",
   "metadata": {},
   "outputs": [],
   "source": [
    "pd.set_option('display.float_format','{:,.2f}'.format)\n",
    "pdde.describe()"
   ]
  },
  {
   "cell_type": "markdown",
   "id": "2a18f386",
   "metadata": {},
   "source": [
    "### 그래프 그릴때 y축 눈금 지수 없애고 콤마 찍어서 숫자 나타내기"
   ]
  },
  {
   "cell_type": "code",
   "execution_count": null,
   "id": "0dcd6577",
   "metadata": {},
   "outputs": [],
   "source": [
    "current_values = plt.gca().get_yticks()\n",
    "plt.gca().set_yticklabels(['{:,.0f}'.format(x) for x in current_values])"
   ]
  },
  {
   "cell_type": "markdown",
   "id": "eaf0a84b",
   "metadata": {},
   "source": [
    "### outlier 찾기"
   ]
  },
  {
   "cell_type": "code",
   "execution_count": null,
   "id": "296f2fe7",
   "metadata": {},
   "outputs": [],
   "source": [
    "import matplotlib.pyplot as plt\n",
    "import seaborn as sns\n",
    "\n",
    "plt.figure(figsize=(10,4))\n",
    "plt.xlim(-100, 150)\n",
    "sns.boxplot(x=pdde.buy_ct)"
   ]
  },
  {
   "cell_type": "markdown",
   "id": "887b1755",
   "metadata": {},
   "source": [
    "### 얼마나 걸렸는지 시간을 보고싶을때(simple data)"
   ]
  },
  {
   "cell_type": "code",
   "execution_count": null,
   "id": "0fd97d68",
   "metadata": {},
   "outputs": [],
   "source": [
    "%%time"
   ]
  },
  {
   "cell_type": "markdown",
   "id": "9ec97736",
   "metadata": {},
   "source": [
    "### Series에서 DataFrame으로 변환"
   ]
  },
  {
   "cell_type": "code",
   "execution_count": null,
   "id": "bfe3f441",
   "metadata": {},
   "outputs": [],
   "source": [
    "# Series name.to_frame(name='컬럼명')\n",
    "\n",
    "p.to_frame(name='lpay_num')"
   ]
  },
  {
   "cell_type": "markdown",
   "id": "9d4f0c08",
   "metadata": {},
   "source": [
    "### 데이터 프레임 index 이름 변환"
   ]
  },
  {
   "cell_type": "code",
   "execution_count": null,
   "id": "333605c9",
   "metadata": {},
   "outputs": [],
   "source": [
    "# DataFrame name.index.names = ['바꿀이름']\n",
    "\n",
    "u.index.names = ['cust']"
   ]
  },
  {
   "cell_type": "markdown",
   "id": "4a408f04",
   "metadata": {},
   "source": [
    "### csv로 데이터 저장 & 불러오기"
   ]
  },
  {
   "cell_type": "code",
   "execution_count": null,
   "id": "661ada89",
   "metadata": {},
   "outputs": [],
   "source": [
    "# 데이터 저장\n",
    "pdde_copu.to_csv(\"pdde_copu.csv\", index = False)\n",
    "\n",
    "# 데이터 로드\n",
    "data = pd.read_csv(\"pdde_copu.csv\")"
   ]
  },
  {
   "cell_type": "markdown",
   "id": "671a28c3",
   "metadata": {},
   "source": [
    "### DataFrame Merge"
   ]
  },
  {
   "cell_type": "code",
   "execution_count": null,
   "id": "6cea5722",
   "metadata": {},
   "outputs": [],
   "source": [
    "# 변수 = pd.merge(demo파일에 z를 'cust'를 기준으로 왼쪽으로 병합한다.)\n",
    "# 두 데이터 프레임에 'cust' 컬럼이 반드시 있어야 함\n",
    "\n",
    "result = pd.merge(demo, z, on=\"cust\", how=\"left\")"
   ]
  },
  {
   "cell_type": "markdown",
   "id": "748041cf",
   "metadata": {},
   "source": [
    "### 데이터 프레임 생략없이 출력 방법"
   ]
  },
  {
   "cell_type": "code",
   "execution_count": null,
   "id": "8fe29294",
   "metadata": {},
   "outputs": [],
   "source": [
    "# https://jimmy-ai.tistory.com/134\n",
    "# 숫자에 원하는 출력 숫자를 넣고 만약 None으로 넣으면 모든게 다 출력된다. pd.set_option('display.max_columns', None)\n",
    "\n",
    "pd.set_option('display.max_columns', 숫자)\n",
    "pd.set_option('display.max_rows', 숫자)\n",
    "\n",
    "# 데이터프레임.colunms 출력 결과 생략없이 다 나오게하기\n",
    "pd.set_option('display.max_seq_items', None)"
   ]
  },
  {
   "cell_type": "markdown",
   "id": "3754bfd1",
   "metadata": {},
   "source": [
    "### 인덱스 정렬해서 출력 (.sort_index()), values를 정렬해서 출력 (.sort_values())"
   ]
  },
  {
   "cell_type": "markdown",
   "id": "c91d1f07",
   "metadata": {},
   "source": [
    "### 그래프 좋은 정보"
   ]
  },
  {
   "cell_type": "code",
   "execution_count": null,
   "id": "170e6c85",
   "metadata": {},
   "outputs": [],
   "source": [
    "# https://rfriend.tistory.com/411"
   ]
  },
  {
   "cell_type": "markdown",
   "id": "80204d0b",
   "metadata": {},
   "source": [
    "### 부울값(True, False)을 int형으로 변환하기"
   ]
  },
  {
   "cell_type": "code",
   "execution_count": null,
   "id": "243bea61",
   "metadata": {},
   "outputs": [],
   "source": [
    "# True, False로 되어있는 데이터를 True = 1. False = 0으로 변환하기\n",
    "# 변수.astype(int)\n",
    "\n",
    "df.astype(int)"
   ]
  },
  {
   "cell_type": "markdown",
   "id": "58770ddc",
   "metadata": {},
   "source": [
    "### 특정 컬럼을 기준으로 내림차순 정렬"
   ]
  },
  {
   "cell_type": "code",
   "execution_count": null,
   "id": "a364b823",
   "metadata": {},
   "outputs": [],
   "source": [
    "# 여러개의 컬럼이 있을때 특정 컬럼 값의 내림차순으로 정렬\n",
    "# 데이터변수.sort_values('특정컬럼', ascending = False)\n",
    "\n",
    "itemset.sort_values(\"support\", ascending = False)"
   ]
  },
  {
   "cell_type": "markdown",
   "id": "f40e4473",
   "metadata": {},
   "source": [
    "### pivot_table"
   ]
  },
  {
   "cell_type": "code",
   "execution_count": null,
   "id": "21901193",
   "metadata": {},
   "outputs": [],
   "source": [
    "# https://suy379.tistory.com/21"
   ]
  },
  {
   "cell_type": "markdown",
   "id": "251d65d5",
   "metadata": {},
   "source": [
    "### float형을 int형으로 바꾸기"
   ]
  },
  {
   "cell_type": "code",
   "execution_count": null,
   "id": "a41c7a8b",
   "metadata": {},
   "outputs": [],
   "source": [
    "# 데이터 프레임 demo_1의 ['spent']가 원래는 float형이었는데 int형으로 바꿈\n",
    "\n",
    "demo_1['spent'] = demo_1['spent'].astype('int')"
   ]
  },
  {
   "cell_type": "markdown",
   "id": "fe2f3b83",
   "metadata": {},
   "source": [
    "### 데이터 프레임 복수조건 검색"
   ]
  },
  {
   "cell_type": "code",
   "execution_count": null,
   "id": "2e5c9128",
   "metadata": {},
   "outputs": [],
   "source": [
    "demo_1[(demo_1['asso_num'] > 0) & (demo_1['lpay_num'] > 0)]"
   ]
  },
  {
   "cell_type": "markdown",
   "id": "af408391",
   "metadata": {},
   "source": [
    "### 특정한 컬럼을 index로 set하기 (set_index())"
   ]
  },
  {
   "cell_type": "code",
   "execution_count": null,
   "id": "ec1790db",
   "metadata": {},
   "outputs": [],
   "source": [
    "# 파일을 임포트하면 데이터 프레임은 index가 자동적으로 되어있는데 다른 컬럼을 index로 설정하고 싶을때 \n",
    "# 데이터프레임.set_index('index로 하고싶은 컬럼명')\n",
    "\n",
    "orders = orders.set_index('customer_id')"
   ]
  },
  {
   "cell_type": "markdown",
   "id": "006a43c7",
   "metadata": {},
   "source": [
    "### concat, merge, join 정보"
   ]
  },
  {
   "cell_type": "code",
   "execution_count": null,
   "id": "036be811",
   "metadata": {},
   "outputs": [],
   "source": [
    "# https://yganalyst.github.io/data_handling/Pd_12/\n",
    "# pd.concat([데이터프레임, 데이터프레임], ignore_index=True).\n",
    "# ignore_index = True 하면 데이터 프레임 두개 이어 붙이고 인덱스 재설정\n",
    "\n",
    "result2 = pd.concat([df1,df2], ignore_index=True)"
   ]
  },
  {
   "cell_type": "markdown",
   "id": "e0db8b4e",
   "metadata": {},
   "source": [
    "### Segmentation visualization "
   ]
  },
  {
   "cell_type": "code",
   "execution_count": null,
   "id": "9c14d2fd",
   "metadata": {},
   "outputs": [],
   "source": [
    "# https://www.kaggle.com/code/fabiendaniel/customer-segmentation"
   ]
  },
  {
   "cell_type": "markdown",
   "id": "536d1084",
   "metadata": {},
   "source": [
    "### 컬럼명 변경"
   ]
  },
  {
   "cell_type": "code",
   "execution_count": null,
   "id": "14a40af0",
   "metadata": {
    "collapsed": true
   },
   "outputs": [],
   "source": [
    "# 데이터프레임명.rename(columns = {'바꾸고싶은컬럼(기존컬럼)' : '새로운컬럼명'}, inplace = True)\n",
    "\n",
    "df.rename(columns = {'buy_am':'Revenue'},inplace=True)"
   ]
  },
  {
   "cell_type": "markdown",
   "id": "b0a19c8a",
   "metadata": {},
   "source": [
    "### 데이터프레임 이용해서 새 컬럼 만들떄"
   ]
  },
  {
   "cell_type": "code",
   "execution_count": null,
   "id": "ea0fbe94",
   "metadata": {},
   "outputs": [],
   "source": [
    "cust = demo['cust'].values\n",
    "\n",
    "import warnings\n",
    "warnings.filterwarnings('ignore')\n",
    "from tqdm import tqdm\n",
    "\n",
    "online = pd.DataFrame()\n",
    "for i in tqdm(cust):\n",
    "    if i in p_on['cust'].values:\n",
    "        z = p_on[p_on['cust']== i]\n",
    "        df = pd.DataFrame({'cust':z.cust.unique(), 'online':len(z)})\n",
    "    else:\n",
    "        a = demo[demo['cust'] == i]\n",
    "        df = pd.DataFrame({'cust':a.cust, 'online':'0'})\n",
    "    online =  pd.concat([online, df], ignore_index=True)"
   ]
  },
  {
   "cell_type": "markdown",
   "id": "af17cf40",
   "metadata": {},
   "source": [
    "### countplot 정보"
   ]
  },
  {
   "cell_type": "code",
   "execution_count": null,
   "id": "72b3b928",
   "metadata": {},
   "outputs": [],
   "source": [
    "# https://www.dataforeverybody.com/countplot-seaborn-order-size-values/"
   ]
  },
  {
   "cell_type": "markdown",
   "id": "ede8465a",
   "metadata": {},
   "source": [
    "### Duration 구하기. 날짜 max - min"
   ]
  },
  {
   "cell_type": "code",
   "execution_count": null,
   "id": "7398382f",
   "metadata": {},
   "outputs": [],
   "source": [
    "a = pdde_lpay_copu[pdde_lpay_copu['cust'] == 'M430112881']\n",
    "b = a['de_dt'].max() - a['de_dt'].min()\n",
    "b.days"
   ]
  },
  {
   "cell_type": "markdown",
   "id": "bf7ee861",
   "metadata": {},
   "source": [
    "### 모든 행, 열 생략없이 출력"
   ]
  },
  {
   "cell_type": "code",
   "execution_count": null,
   "id": "fa6a7f5d",
   "metadata": {},
   "outputs": [],
   "source": [
    "# row 생략 없이 출력\n",
    "pd.set_option('display.max_rows', None)\n",
    "\n",
    "# col 생략 없이 출력\n",
    "pd.set_option('display.max_columns', None)"
   ]
  },
  {
   "cell_type": "markdown",
   "id": "ac3323d6",
   "metadata": {},
   "source": [
    "### 인덱스로 정보 추출"
   ]
  },
  {
   "cell_type": "code",
   "execution_count": null,
   "id": "b6a4f0e2",
   "metadata": {},
   "outputs": [],
   "source": [
    "# 데이터 프레임.loc[인덱스번호]\n",
    "# iloc 안됨\n",
    "\n",
    "data.loc[3590]"
   ]
  },
  {
   "cell_type": "markdown",
   "id": "782d45b9",
   "metadata": {},
   "source": [
    "### null값(NaN) 있는 열(row)만 추출"
   ]
  },
  {
   "cell_type": "code",
   "execution_count": null,
   "id": "b1d339ce",
   "metadata": {},
   "outputs": [],
   "source": [
    "# 데이터프레인[데이터프레임[특정컬럼].isnull()]\n",
    "\n",
    "df[df['A'].isnull()]"
   ]
  },
  {
   "cell_type": "markdown",
   "id": "43b95252",
   "metadata": {},
   "source": [
    "### 중복되는 행, 열 제거 (drop_duplicates())"
   ]
  },
  {
   "cell_type": "code",
   "execution_count": null,
   "id": "c2370540",
   "metadata": {},
   "outputs": [],
   "source": [
    "df.drop_duplicates() #  내용이 중복되는 행(row)을 제거하는 메서드\n",
    "df.drop_duplicates(subset='col2') # 컬럼 'col2'에만 중복되는 값이 있으면 중복되는 열 제거\n",
    "df.drop_duplicates(subset='col1',keep='first') # keep인수를 통해서 중복값을 제거하고 남길 행을 선택할 수 있음. keep='first' 인 경우 처음 값을 남김."
   ]
  },
  {
   "cell_type": "markdown",
   "id": "2ee6fa7e",
   "metadata": {},
   "source": [
    "### 리스트 중복 제거 (set())"
   ]
  },
  {
   "cell_type": "markdown",
   "id": "481fed43",
   "metadata": {},
   "source": [
    "### 리스트 max, min값 찾기"
   ]
  },
  {
   "cell_type": "code",
   "execution_count": null,
   "id": "58c489cd",
   "metadata": {},
   "outputs": [],
   "source": [
    "# max값 찾기 = max(리스트)\n",
    "# min값 찾기 = min(리스트)\n",
    "\n",
    "max(diff)\n",
    "min(diff)"
   ]
  },
  {
   "cell_type": "markdown",
   "id": "ff6f7ad1",
   "metadata": {},
   "source": [
    "### 결측값 0으로 변경하기"
   ]
  },
  {
   "cell_type": "code",
   "execution_count": null,
   "id": "737d4c3f",
   "metadata": {},
   "outputs": [],
   "source": [
    "# 데이터프레임.fillna(원하는 대체값)\n",
    "\n",
    "demo_4 = demo_4.fillna(0) # 결측값을 0으로 변경"
   ]
  },
  {
   "cell_type": "markdown",
   "id": "1e81a945",
   "metadata": {},
   "source": [
    "### 컬럼 순서를 변경하고 싶을때"
   ]
  },
  {
   "cell_type": "code",
   "execution_count": null,
   "id": "d375d7d1",
   "metadata": {},
   "outputs": [],
   "source": [
    "# 데이터프레임 = 데이터프레임.[['컬럼1','컬럼2'....]] 원하는 컬럼 순서대로 적기\n",
    "\n",
    "demo_4 = demo_4[['cust','ma_fem_dv', 'ages', 'zon_hlv']"
   ]
  },
  {
   "cell_type": "markdown",
   "id": "ef4b9952",
   "metadata": {},
   "source": [
    "### index를 컬럼으로 바꾸고 싶을때"
   ]
  },
  {
   "cell_type": "code",
   "execution_count": null,
   "id": "1e6ca4c7",
   "metadata": {},
   "outputs": [],
   "source": [
    "# 데이터프레임 = 데이터프레임.reset_index()\n",
    "\n",
    "off_num = off_num.reset_index()"
   ]
  },
  {
   "cell_type": "markdown",
   "id": "cf32cd02",
   "metadata": {},
   "source": [
    "### 컬럼을 index로 바꾸고 싶을때"
   ]
  },
  {
   "cell_type": "code",
   "execution_count": null,
   "id": "bfa51d4c",
   "metadata": {},
   "outputs": [],
   "source": [
    "# 데이터프레임 = 데이터프레임.set_index('컬럼명')\n",
    "\n",
    "off_num = off_num.set_index('name')"
   ]
  },
  {
   "cell_type": "markdown",
   "id": "fb96674c",
   "metadata": {},
   "source": [
    "### 조건 추출 결과를 데이터프레임으로 저장하고 싶을때 (.to_frame)"
   ]
  },
  {
   "cell_type": "code",
   "execution_count": null,
   "id": "40517295",
   "metadata": {},
   "outputs": [],
   "source": [
    "off = all_data[all_data['chnl_dv']==1]\n",
    "off_num = off.groupby('cust')['rct_no'].nunique().to_frame()"
   ]
  },
  {
   "cell_type": "markdown",
   "id": "68ab607f",
   "metadata": {},
   "source": [
    "### 문자열 txt 파일에 저장"
   ]
  },
  {
   "cell_type": "code",
   "execution_count": null,
   "id": "13bf1c92",
   "metadata": {},
   "outputs": [],
   "source": [
    "text1 = \"안녕하세요! 디노랩스는 컨텐츠 공유 플랫폼입니다.\"\n",
    "file = open(\"test_text1.txt\", \"w\",encoding='UTF-8') \n",
    "file.write(text1)\n",
    "file.close()"
   ]
  },
  {
   "cell_type": "markdown",
   "id": "20602476",
   "metadata": {},
   "source": [
    "### null값의 열(row)만 출력"
   ]
  },
  {
   "cell_type": "code",
   "execution_count": null,
   "id": "c3791f8a",
   "metadata": {},
   "outputs": [],
   "source": [
    "all_data[all_data['clac_hlv_nm'].isnull()]"
   ]
  },
  {
   "cell_type": "markdown",
   "id": "73d18dc9",
   "metadata": {},
   "source": [
    "### 상관관계 높은 순서대로 출력"
   ]
  },
  {
   "cell_type": "code",
   "execution_count": null,
   "id": "35a93d70",
   "metadata": {},
   "outputs": [],
   "source": [
    "corr_mat = players.corr()\n",
    "corr_mat['컬럼명'].sort_values(ascending = False)"
   ]
  },
  {
   "cell_type": "markdown",
   "id": "43879ff3",
   "metadata": {},
   "source": [
    "### 특정 조건에 맞는 데이터만 뽑아서 다시 데이터 프레임 만들기"
   ]
  },
  {
   "cell_type": "code",
   "execution_count": null,
   "id": "0dd9caab",
   "metadata": {},
   "outputs": [],
   "source": [
    "# 전체 데이터에서 6월에 갑자기 구매금액이 감소한 고객의 아이디만 추출하여 전체 데이터에서 이 아이디 정보만 뽑아서 다시 데이터 프레임으로 만들기\n",
    "\n",
    "# cust = demo_5['cust'].values\n",
    "# m = all_data[all_data['clac_hlv_nm']=='nan']\n",
    "# u = m['cust'].unique()\n",
    "\n",
    "import warnings\n",
    "warnings.filterwarnings('ignore')\n",
    "from tqdm import tqdm\n",
    "\n",
    "cat = pd.DataFrame()\n",
    "for i in tqdm(y):\n",
    "    z = all_data[all_data['cust']== i]\n",
    "#     df = pd.DataFrame({'cust':z.cust.unique(), 'nan':z['rct_no'].nunique(), 'nan_총금액':z['buy_am'].sum()})\n",
    "\n",
    "    cat =  pd.concat([cat, z], ignore_index=True)"
   ]
  },
  {
   "cell_type": "markdown",
   "id": "1b6a4b68",
   "metadata": {},
   "source": [
    "### 특정의 컬럼의 값을 한칸씩 내리기"
   ]
  },
  {
   "cell_type": "code",
   "execution_count": null,
   "id": "8269f8a3",
   "metadata": {},
   "outputs": [],
   "source": [
    "# 데이터프레임[컬럼] = 데이터프레임[컬럼].shift(숫자)\n",
    "\n",
    "gw['일강수량(mm)']=gw['일강수량(mm)'].shift(1)\n",
    "gw.head()"
   ]
  },
  {
   "cell_type": "markdown",
   "id": "9d1ed546",
   "metadata": {},
   "source": [
    "### 날짜 일(days) 빼기/더하기"
   ]
  },
  {
   "cell_type": "code",
   "execution_count": null,
   "id": "0db03819",
   "metadata": {},
   "outputs": [],
   "source": [
    "import datetime as dt\n",
    "\n",
    "gw['de_dt'] = gw['de_dt'] + dt.timedelta(days=-2) # 2일 빼기\n",
    "gw.head()"
   ]
  },
  {
   "cell_type": "markdown",
   "id": "7b09a21b",
   "metadata": {},
   "source": [
    "### 아웃라이어 제거하기"
   ]
  },
  {
   "cell_type": "code",
   "execution_count": null,
   "id": "4d743907",
   "metadata": {},
   "outputs": [],
   "source": [
    "# https://hungryap.tistory.com/69\n",
    "\n",
    "#1\n",
    "import numpy as np\n",
    "\n",
    "def outliers_iqr(data):\n",
    "    q1,q3=np.percentile(data,[25,75])\n",
    "    iqr=q3-q1\n",
    "    lower_bound=q1-(iqr*1.5)\n",
    "    upper_bound=q3+(iqr*1.5)\n",
    "    \n",
    "    return np.where((data>upper_bound)|(data<lower_bound))\n",
    "\n",
    "#2\n",
    "spent_lead_outlier_index = outliers_iqr(temp['spent'])[0]\n",
    "freq_lead_outlier_index = outliers_iqr(temp['freq'])[0]\n",
    "onnum_lead_outlier_index = outliers_iqr(temp['on_num'])[0]\n",
    "offnum_lead_outlier_index = outliers_iqr(temp['off_num'])[0]\n",
    "assonum_lead_outlier_index = outliers_iqr(temp['asso_num'])[0]\n",
    "duration_lead_outlier_index = outliers_iqr(temp['duration'])[0]\n",
    "\n",
    "#3\n",
    "lead_outlier_index=np.concatenate((spent_lead_outlier_index,\n",
    "                                  freq_lead_outlier_index,\n",
    "                                  onnum_lead_outlier_index,\n",
    "                                  offnum_lead_outlier_index,\n",
    "                                  assonum_lead_outlier_index,\n",
    "                                  duration_lead_outlier_index))\n",
    "print(len(lead_outlier_index))\n",
    "\n",
    "#4\n",
    "lead_not_outlier_index=[]\n",
    "\n",
    "for i in temp.index:\n",
    "    if i not in lead_outlier_index:\n",
    "        lead_not_outlier_index.append(i)\n",
    "\n",
    "#5\n",
    "temp_clean = temp.loc[lead_not_outlier_index]\n",
    "temp_clean = temp_clean.reset_index(drop=True)\n",
    "temp_clean.head()\n"
   ]
  },
  {
   "cell_type": "markdown",
   "id": "831056a6",
   "metadata": {},
   "source": [
    "### boxplot이 잘 안나올때 log 사용하기"
   ]
  },
  {
   "cell_type": "code",
   "execution_count": null,
   "id": "ad963c51",
   "metadata": {},
   "outputs": [],
   "source": [
    "demo_11['store_num_log'] = np.log(demo_11.store_num + 0.01)"
   ]
  },
  {
   "cell_type": "markdown",
   "id": "a73ba9e3",
   "metadata": {},
   "source": [
    "### 특정 컬럼의 값을 변경"
   ]
  },
  {
   "cell_type": "code",
   "execution_count": null,
   "id": "aa6cbd67",
   "metadata": {},
   "outputs": [],
   "source": [
    "# https://seong6496.tistory.com/234?category=903876\n",
    "# 데이터프레임.replace({'원하는컬럼' : {기존값 : 변경값}})\n",
    "\n",
    "demo_13 = demo_13.replace({'Shop_day':{1:'Mon'}})\n",
    "demo_13.head()\n"
   ]
  },
  {
   "cell_type": "markdown",
   "id": "86293ae8",
   "metadata": {},
   "source": [
    "### 데이터 프레임에서 특정 컬럼의 순서대로 정렬하기"
   ]
  },
  {
   "cell_type": "code",
   "execution_count": null,
   "id": "043bb78f",
   "metadata": {},
   "outputs": [],
   "source": [
    "# df 데이터 프레임으로 week의 순서대로 정렬하기 ex)1, 2, 3, 4...\n",
    "\n",
    "df = df.sort_values(by=['week'])"
   ]
  }
 ],
 "metadata": {
  "kernelspec": {
   "display_name": "Python 3 (ipykernel)",
   "language": "python",
   "name": "python3"
  },
  "language_info": {
   "codemirror_mode": {
    "name": "ipython",
    "version": 3
   },
   "file_extension": ".py",
   "mimetype": "text/x-python",
   "name": "python",
   "nbconvert_exporter": "python",
   "pygments_lexer": "ipython3",
   "version": "3.9.12"
  }
 },
 "nbformat": 4,
 "nbformat_minor": 5
}
