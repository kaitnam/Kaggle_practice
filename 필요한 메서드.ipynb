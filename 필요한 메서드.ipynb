{
 "cells": [
  {
   "cell_type": "code",
   "execution_count": null,
   "id": "33a23568",
   "metadata": {},
   "outputs": [],
   "source": [
    "# lpay 데이터 셋의 'de_dt' 컬럼에 value별로 몇개가 있는지 갯수 count 하고싶을때\n",
    "\n",
    "lpay['de_dt'].value_counts()"
   ]
  },
  {
   "cell_type": "code",
   "execution_count": null,
   "id": "35e4e224",
   "metadata": {},
   "outputs": [],
   "source": [
    "# pdde 파일의 'rct_no' 컬럼에 '47192703' 문자가 들어있는 row 출력하기\n",
    "# 471920703 만 들어가면 다 출력 예) io471920703 가능\n",
    "# dtype이 문자열(object, string)일때만 가능\n",
    "\n",
    "pdde[pdde['rct_no'].str.contains('471920703')]"
   ]
  },
  {
   "cell_type": "code",
   "execution_count": null,
   "id": "e5ac5559",
   "metadata": {},
   "outputs": [],
   "source": [
    "# results['de_dt']를 datetime형으로 바꾸기\n",
    "# results['payment_tm'] 컬럼을 하나 만들어서 년/월 폼으로 바꿔서 넣기\n",
    "\n",
    "results['de_dt'] = pd.to_datetime(results['de_dt'], format='%Y%m%d')\n",
    "results['payment_tm'] = results['de_dt'].dt.strftime(\"%Y-%m\")"
   ]
  },
  {
   "cell_type": "code",
   "execution_count": null,
   "id": "aafa652e",
   "metadata": {},
   "outputs": [],
   "source": [
    "# 한글 폰트 사용을 위해서 세팅\n",
    "\n",
    "font_path = \"C:/Users/katenam/AppData/Local/Microsoft/Windows/Fonts/malgun.ttf\"\n",
    "font = font_manager.FontProperties(fname=font_path).get_name()\n",
    "rc('font', family=font)"
   ]
  },
  {
   "cell_type": "code",
   "execution_count": null,
   "id": "c3ceef33",
   "metadata": {},
   "outputs": [],
   "source": [
    "# 대용량 데이터 히트맵 다 나오게 출력\n",
    "# 한글 컬럼 출력\n",
    "\n",
    "from matplotlib import colors\n",
    "font_path = \"C:/Users/katenam/AppData/Local/Microsoft/Windows/Fonts/malgun.ttf\"\n",
    "font = font_manager.FontProperties(fname=font_path).get_name()\n",
    "rc('font', family=font)\n",
    "\n",
    "cmap = colors.ListedColormap([\"#682F2F\", \"#9E726F\", \"#D6B2B1\", \"#B9C0C9\", \"#9F8A78\", \"#F3AB60\"])\n",
    "\n",
    "corr = data.corr()\n",
    "plt.figure(figsize=(20,20))  \n",
    "sns.heatmap(corr,annot=True, cmap=cmap, center=0)"
   ]
  },
  {
   "cell_type": "code",
   "execution_count": null,
   "id": "39282939",
   "metadata": {},
   "outputs": [],
   "source": [
    "# 중복되는 값이 있는지 확인\n",
    "\n",
    "b3 = list(set(lpay_cust).intersection(pdde_cust))"
   ]
  },
  {
   "cell_type": "code",
   "execution_count": null,
   "id": "74f69ec6",
   "metadata": {},
   "outputs": [],
   "source": []
  }
 ],
 "metadata": {
  "kernelspec": {
   "display_name": "Python 3 (ipykernel)",
   "language": "python",
   "name": "python3"
  },
  "language_info": {
   "codemirror_mode": {
    "name": "ipython",
    "version": 3
   },
   "file_extension": ".py",
   "mimetype": "text/x-python",
   "name": "python",
   "nbconvert_exporter": "python",
   "pygments_lexer": "ipython3",
   "version": "3.9.12"
  }
 },
 "nbformat": 4,
 "nbformat_minor": 5
}
