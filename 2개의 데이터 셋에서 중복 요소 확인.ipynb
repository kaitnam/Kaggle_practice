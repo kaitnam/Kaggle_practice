{
 "cells": [
  {
   "cell_type": "markdown",
   "id": "e869c315",
   "metadata": {},
   "source": [
    "## 2개의 데이터 셋에서 중복 요소 확인\n",
    "### lpay_cust 데이터 셋에서의 cust id가 pdde_cust 데이터 셋 cust id에 있는지 확인\n",
    "\n",
    "### b3 = list(set(lpay_cust).intersection(pdde_cust))"
   ]
  },
  {
   "cell_type": "code",
   "execution_count": null,
   "id": "59b84481",
   "metadata": {},
   "outputs": [],
   "source": [
    "import pandas as pd\n",
    "import numpy as np\n",
    "import matplotlib.pyplot as plt\n",
    "import seaborn as sns\n",
    "from matplotlib import font_manager, rc\n",
    "import warnings\n",
    "warnings.filterwarnings('ignore')\n",
    "\n",
    "demo = pd.read_csv(\"E:/Kaggle_Practice/LotteMembers/LPOINT_BIG_COMP_01_DEMO.csv\")\n",
    "pdde = pd.read_csv(\"E:/Kaggle_Practice/LotteMembers/LPOINT_BIG_COMP_02_PDDE.csv\")\n",
    "copu = pd.read_csv(\"E:/Kaggle_Practice/LotteMembers/LPOINT_BIG_COMP_03_COP_U.csv\")\n",
    "pdclac = pd.read_csv(\"E:/Kaggle_Practice/LotteMembers/LPOINT_BIG_COMP_04_PD_CLAC.csv\")\n",
    "br = pd.read_csv(\"E:/Kaggle_Practice/LotteMembers/LPOINT_BIG_COMP_05_BR.csv\")\n",
    "lpay = pd.read_csv(\"E:/Kaggle_Practice/LotteMembers/LPOINT_BIG_COMP_06_LPAY.csv\")\n",
    "pdde_copu = pd.read_csv(\"E:/Kaggle_Practice/LotteMembers/pdde_copu.csv\")\n",
    "lpay_pdde = pd.read_csv(\"E:/Kaggle_Practice/LotteMembers/pdde_lpay.csv\")"
   ]
  },
  {
   "cell_type": "code",
   "execution_count": 3,
   "id": "a466cac0",
   "metadata": {},
   "outputs": [
    {
     "data": {
      "text/plain": [
       "26917"
      ]
     },
     "execution_count": 3,
     "metadata": {},
     "output_type": "execute_result"
    }
   ],
   "source": [
    "# pdde 데이터셋의 cust 컬럼의 nunique() 갯수 확인\n",
    "\n",
    "pdde['cust'].nunique()"
   ]
  },
  {
   "cell_type": "code",
   "execution_count": 4,
   "id": "82c064e0",
   "metadata": {},
   "outputs": [
    {
     "data": {
      "text/plain": [
       "21769"
      ]
     },
     "execution_count": 4,
     "metadata": {},
     "output_type": "execute_result"
    }
   ],
   "source": [
    "# copu 데이터셋의 cust 컬럼의 nunique() 갯수 확인\n",
    "\n",
    "copu['cust'].nunique()"
   ]
  },
  {
   "cell_type": "code",
   "execution_count": 6,
   "id": "d07c96e6",
   "metadata": {},
   "outputs": [
    {
     "data": {
      "text/plain": [
       "18930"
      ]
     },
     "execution_count": 6,
     "metadata": {},
     "output_type": "execute_result"
    }
   ],
   "source": [
    "# pdde_copu 데이터셋의 cust 컬럼의 nunique() 갯수 확인\n",
    "# 참고로 pdde_copu 파일은 copu 데이터셋의 cust 컬럼의 unique()만 뽑아서 그 customer의 pdde(구매상품정보)를 추출한것임\n",
    "\n",
    "pdde_copu['cust'].nunique()"
   ]
  },
  {
   "cell_type": "code",
   "execution_count": 5,
   "id": "24477ef0",
   "metadata": {},
   "outputs": [
    {
     "data": {
      "text/plain": [
       "8906"
      ]
     },
     "execution_count": 5,
     "metadata": {},
     "output_type": "execute_result"
    }
   ],
   "source": [
    "# lpay 데이터셋의 cust 컬럼의 nunique() 갯수 확인\n",
    "\n",
    "lpay['cust'].nunique()"
   ]
  },
  {
   "cell_type": "code",
   "execution_count": 7,
   "id": "38c53ab6",
   "metadata": {},
   "outputs": [
    {
     "data": {
      "text/plain": [
       "8576"
      ]
     },
     "execution_count": 7,
     "metadata": {},
     "output_type": "execute_result"
    }
   ],
   "source": [
    "# lpay_pdde 데이터셋의 cust 컬럼의 nunique() 갯수 확인\n",
    "\n",
    "lpay_pdde['cust'].nunique()"
   ]
  },
  {
   "cell_type": "code",
   "execution_count": 8,
   "id": "de1285fb",
   "metadata": {},
   "outputs": [
    {
     "data": {
      "text/plain": [
       "array(['M839993508', 'M348796971', 'M859929802', ..., 'M736929241',\n",
       "       'M040608978', 'M761634870'], dtype=object)"
      ]
     },
     "execution_count": 8,
     "metadata": {},
     "output_type": "execute_result"
    }
   ],
   "source": [
    "copu_cust = copu['cust'].unique()\n",
    "copu_cust"
   ]
  },
  {
   "cell_type": "code",
   "execution_count": 9,
   "id": "1734ec30",
   "metadata": {},
   "outputs": [
    {
     "data": {
      "text/plain": [
       "array(['M430112881', 'M646853852', 'M669384418', ..., 'M765148247',\n",
       "       'M498069014', 'M866900192'], dtype=object)"
      ]
     },
     "execution_count": 9,
     "metadata": {},
     "output_type": "execute_result"
    }
   ],
   "source": [
    "pdde_cust = pdde['cust'].unique()\n",
    "pdde_cust"
   ]
  },
  {
   "cell_type": "code",
   "execution_count": 10,
   "id": "1c6350fd",
   "metadata": {},
   "outputs": [
    {
     "data": {
      "text/plain": [
       "array(['M629656521', 'M216016456', 'M205142844', ..., 'M425271048',\n",
       "       'M113930483', 'M220008309'], dtype=object)"
      ]
     },
     "execution_count": 10,
     "metadata": {},
     "output_type": "execute_result"
    }
   ],
   "source": [
    "lpay_cust = lpay['cust'].unique()\n",
    "lpay_cust"
   ]
  },
  {
   "cell_type": "code",
   "execution_count": 15,
   "id": "08a4b0e5",
   "metadata": {},
   "outputs": [],
   "source": [
    "# 중복되는 값이 있는지 확인\n",
    "\n",
    "b3 = list(set(lpay_cust).intersection(pdde_cust))"
   ]
  },
  {
   "cell_type": "code",
   "execution_count": 16,
   "id": "4b0ae157",
   "metadata": {},
   "outputs": [
    {
     "data": {
      "text/plain": [
       "8576"
      ]
     },
     "execution_count": 16,
     "metadata": {},
     "output_type": "execute_result"
    }
   ],
   "source": [
    "len(b3)"
   ]
  },
  {
   "cell_type": "markdown",
   "id": "f177b708",
   "metadata": {},
   "source": [
    "### "
   ]
  }
 ],
 "metadata": {
  "kernelspec": {
   "display_name": "Python 3 (ipykernel)",
   "language": "python",
   "name": "python3"
  },
  "language_info": {
   "codemirror_mode": {
    "name": "ipython",
    "version": 3
   },
   "file_extension": ".py",
   "mimetype": "text/x-python",
   "name": "python",
   "nbconvert_exporter": "python",
   "pygments_lexer": "ipython3",
   "version": "3.9.12"
  }
 },
 "nbformat": 4,
 "nbformat_minor": 5
}
